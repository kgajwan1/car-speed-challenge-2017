{
 "cells": [
  {
   "cell_type": "code",
   "execution_count": 3,
   "metadata": {},
   "outputs": [
    {
     "name": "stderr",
     "output_type": "stream",
     "text": [
      "/kaggle/dev/ashish/car-speed-challenge-2017/speed/lib/python3.5/site-packages/sklearn/cross_validation.py:44: DeprecationWarning: This module was deprecated in version 0.18 in favor of the model_selection module into which all the refactored classes and functions are moved. Also note that the interface of the new CV iterators are different from that of this module. This module will be removed in 0.20.\n",
      "  \"This module will be removed in 0.20.\", DeprecationWarning)\n"
     ]
    }
   ],
   "source": [
    "import skvideo.io\n",
    "import numpy as np # linear algebra\n",
    "import pandas as pd # data processing, CSV file I/O (e.g. pd.read_csv)\n",
    "import matplotlib.pyplot as plt\n",
    "import seaborn as sns\n",
    "from sklearn import model_selection, preprocessing, metrics\n",
    "import xgboost as xgb\n",
    "import os\n",
    "import time\n",
    "from tqdm import tqdm\n",
    "color = sns.color_palette()\n",
    "\n",
    "%matplotlib inline"
   ]
  },
  {
   "cell_type": "code",
   "execution_count": 4,
   "metadata": {
    "collapsed": true
   },
   "outputs": [],
   "source": [
    "DATA_PATH = '/kaggle/dev/speed-challenge-2017-data/data'\n",
    "TRAIN_VIDEO = os.path.join(DATA_PATH, 'train.mp4')\n",
    "TEST_VIDEO = os.path.join(DATA_PATH, 'test.mp4')\n",
    "TRAIN_LABELS = os.path.join(DATA_PATH, 'train.txt')\n",
    "PREPROCESSED_DATA_PATH = '/kaggle/dev/speed-challenge-2017-data/pre_processed_data'\n",
    "PREPROCESSED_IMGS_TRAIN = os.path.join(PREPROCESSED_DATA_PATH, 'train_imgs')\n",
    "PREPROCESSED_IMGS_TEST = os.path.join(PREPROCESSED_DATA_PATH, 'test_imgs')"
   ]
  },
  {
   "cell_type": "code",
   "execution_count": 5,
   "metadata": {},
   "outputs": [
    {
     "data": {
      "text/plain": [
       "0    28.105569\n",
       "1    28.105569\n",
       "2    28.106527\n",
       "3    28.130404\n",
       "4    28.109243\n",
       "Name: 0, dtype: float64"
      ]
     },
     "execution_count": 5,
     "metadata": {},
     "output_type": "execute_result"
    }
   ],
   "source": [
    "train_y = pd.read_csv(TRAIN_LABELS, header=None, squeeze=True)\n",
    "train_y.head()"
   ]
  },
  {
   "cell_type": "code",
   "execution_count": 6,
   "metadata": {
    "collapsed": true
   },
   "outputs": [],
   "source": [
    "def convert_video_to_imgs(VIDEO_PATH, IMGS_PATH, dtype):\n",
    "    tqdm.write('Reading video')\n",
    "    cap = skvideo.io.vread(VIDEO_PATH)\n",
    "    meta_dict = {}\n",
    "    tqdm.write('Processing video')\n",
    "    for idx, frame in enumerate(tqdm(cap)):\n",
    "        img_path = os.path.join(IMGS_PATH, str(idx) + '.jpg')\n",
    "        skvideo.io.vwrite(img_path, frame)\n",
    "        speed = train_y[idx] if dtype == 'train' else None\n",
    "        meta_dict[idx] = [img_path, idx, speed]\n",
    "    meta_df = pd.DataFrame.from_dict(meta_dict, orient='index')\n",
    "    meta_df.columns = ['img_path', 'img_index', 'speed']\n",
    "    tqdm.write('Writing meta')\n",
    "    meta_df.to_csv(os.path.join(PREPROCESSED_DATA_PATH, dtype + '_meta.csv'), index=False)"
   ]
  },
  {
   "cell_type": "code",
   "execution_count": null,
   "metadata": {},
   "outputs": [
    {
     "name": "stdout",
     "output_type": "stream",
     "text": [
      "Reading video\n"
     ]
    },
    {
     "name": "stderr",
     "output_type": "stream",
     "text": [
      "  0%|          | 1/20400 [00:00<41:44,  8.14it/s]"
     ]
    },
    {
     "name": "stdout",
     "output_type": "stream",
     "text": [
      "Processing video\n"
     ]
    },
    {
     "name": "stderr",
     "output_type": "stream",
     "text": [
      " 78%|███████▊  | 15919/20400 [29:50<08:30,  8.77it/s]"
     ]
    }
   ],
   "source": [
    "convert_video_to_imgs(TRAIN_VIDEO, PREPROCESSED_IMGS_TRAIN, 'train')"
   ]
  },
  {
   "cell_type": "code",
   "execution_count": 9,
   "metadata": {},
   "outputs": [
    {
     "name": "stdout",
     "output_type": "stream",
     "text": [
      "Reading video\n"
     ]
    },
    {
     "name": "stderr",
     "output_type": "stream",
     "text": [
      "  0%|          | 2/10798 [00:00<09:32, 18.87it/s]"
     ]
    },
    {
     "name": "stdout",
     "output_type": "stream",
     "text": [
      "Processing video\n"
     ]
    },
    {
     "name": "stderr",
     "output_type": "stream",
     "text": [
      "100%|██████████| 10798/10798 [09:39<00:00, 18.46it/s]"
     ]
    },
    {
     "name": "stdout",
     "output_type": "stream",
     "text": [
      "Writing meta\n"
     ]
    },
    {
     "name": "stderr",
     "output_type": "stream",
     "text": [
      "\n"
     ]
    }
   ],
   "source": [
    "convert_video_to_imgs(TEST_VIDEO, PREPROCESSED_IMGS_TEST, 'test')"
   ]
  }
 ],
 "metadata": {
  "kernelspec": {
   "display_name": "Python 3",
   "language": "python",
   "name": "python3"
  },
  "language_info": {
   "codemirror_mode": {
    "name": "ipython",
    "version": 3
   },
   "file_extension": ".py",
   "mimetype": "text/x-python",
   "name": "python",
   "nbconvert_exporter": "python",
   "pygments_lexer": "ipython3",
   "version": "3.5.2"
  }
 },
 "nbformat": 4,
 "nbformat_minor": 2
}
